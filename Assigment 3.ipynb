{
 "cells": [
  {
   "cell_type": "code",
   "execution_count": null,
   "id": "884c6f87-de39-4255-abba-e99a79c60cee",
   "metadata": {},
   "outputs": [],
   "source": [
    "# Q1\n",
    "\n",
    "#-- DEF keyword is used to define a function"
   ]
  },
  {
   "cell_type": "code",
   "execution_count": null,
   "id": "b4a4d32f-e39b-403d-94c1-ff816183f443",
   "metadata": {},
   "outputs": [],
   "source": []
  },
  {
   "cell_type": "code",
   "execution_count": 9,
   "id": "cb70ae32-63e8-4b44-b0ad-1f56030cd223",
   "metadata": {},
   "outputs": [],
   "source": [
    "def sumof_oddnum():\n",
    "    odd_numbers=[]\n",
    "    for number in range(1,26):\n",
    "        if number % 2 != 0:\n",
    "            odd_numbers.append(number)\n",
    "    return odd_numbers"
   ]
  },
  {
   "cell_type": "code",
   "execution_count": 10,
   "id": "38588ce6-839f-4d79-86be-992958033139",
   "metadata": {},
   "outputs": [
    {
     "name": "stdout",
     "output_type": "stream",
     "text": [
      "[1, 3, 5, 7, 9, 11, 13, 15, 17, 19, 21, 23, 25]\n"
     ]
    }
   ],
   "source": [
    "print(sumof_oddnum())"
   ]
  },
  {
   "cell_type": "code",
   "execution_count": 11,
   "id": "f95dd896-7352-4ffc-8e1c-9ba8db0fee9a",
   "metadata": {},
   "outputs": [],
   "source": [
    "#Q2"
   ]
  },
  {
   "cell_type": "code",
   "execution_count": null,
   "id": "d846ae57-2fea-4ffc-9669-475891da4d76",
   "metadata": {},
   "outputs": [],
   "source": [
    "#*args and **kwargs are useful for writing flexible functions that can be used in a variety of ways.\n",
    "#For example, a function that takes a variable number of numbers and returns their sum could use *args. \n",
    "#Or, a function that prints information about a person could use **kwargs to accept any number of keyword arguments, such as name, age, and occupation."
   ]
  },
  {
   "cell_type": "code",
   "execution_count": null,
   "id": "8130a7ca-43aa-41aa-b6bf-8d33dfd1077e",
   "metadata": {},
   "outputs": [],
   "source": []
  },
  {
   "cell_type": "code",
   "execution_count": null,
   "id": "4a211dd4-90c3-4235-a6ad-e507d5b40db9",
   "metadata": {},
   "outputs": [],
   "source": [
    "#Q3"
   ]
  },
  {
   "cell_type": "code",
   "execution_count": 12,
   "id": "cf3fda6c-110d-4d10-b16b-bf1f6685a678",
   "metadata": {},
   "outputs": [],
   "source": [
    "kts=[2, 4, 6, 8, 10, 12, 14,16, 18, 20]"
   ]
  },
  {
   "cell_type": "code",
   "execution_count": 13,
   "id": "4b57d3be-11b3-4732-b4a6-745a43dadbec",
   "metadata": {},
   "outputs": [],
   "source": [
    "iterator=iter(kts)"
   ]
  },
  {
   "cell_type": "code",
   "execution_count": 16,
   "id": "bfc4561d-c525-41ca-8544-7c97b88da486",
   "metadata": {},
   "outputs": [
    {
     "name": "stdout",
     "output_type": "stream",
     "text": [
      "2\n",
      "4\n",
      "6\n",
      "8\n",
      "10\n"
     ]
    }
   ],
   "source": [
    "for i in range(5):\n",
    "    print(next(iterator))"
   ]
  },
  {
   "cell_type": "code",
   "execution_count": null,
   "id": "e9662ae0-e934-4903-8d77-492ae9577ede",
   "metadata": {},
   "outputs": [],
   "source": []
  },
  {
   "cell_type": "code",
   "execution_count": null,
   "id": "9da1ab76-9810-4b65-8cc9-4086595f05e4",
   "metadata": {},
   "outputs": [],
   "source": [
    "#Q4"
   ]
  },
  {
   "cell_type": "code",
   "execution_count": null,
   "id": "dbe3dc3d-0c3f-45a6-bd8d-c3bc7258ef7a",
   "metadata": {},
   "outputs": [],
   "source": [
    "\n",
    "#A generator function in Python is a function that can be used to generate a sequence of values without having to store the entire sequence in memory. Generator functions use the yield keyword to return values to the caller of the function."
   ]
  },
  {
   "cell_type": "code",
   "execution_count": 1,
   "id": "b3783d1c-725c-4fd7-ab9b-3960bfd2aa4c",
   "metadata": {},
   "outputs": [],
   "source": [
    "def fibonacci(): #we made a function\n",
    "  a = 0\n",
    "  b = 1\n",
    "  while True:\n",
    "    yield a\n",
    "    a, b = b, a + b"
   ]
  },
  {
   "cell_type": "code",
   "execution_count": 2,
   "id": "d94f1443-ea17-47f9-ab37-35acc6e6658d",
   "metadata": {},
   "outputs": [
    {
     "name": "stdout",
     "output_type": "stream",
     "text": [
      "0\n",
      "1\n",
      "1\n",
      "2\n",
      "3\n",
      "5\n",
      "8\n",
      "13\n",
      "21\n",
      "34\n",
      "55\n",
      "89\n"
     ]
    }
   ],
   "source": [
    "for number in fibonacci():\n",
    "  if number > 100:\n",
    "    break\n",
    "  print(number)"
   ]
  },
  {
   "cell_type": "code",
   "execution_count": null,
   "id": "921b3e0c-7c9a-44cd-8152-b502d354e059",
   "metadata": {},
   "outputs": [],
   "source": []
  },
  {
   "cell_type": "code",
   "execution_count": null,
   "id": "f6e0085c-dcef-4dec-8b9c-33e6476d2869",
   "metadata": {},
   "outputs": [],
   "source": [
    "#Q5"
   ]
  },
  {
   "cell_type": "code",
   "execution_count": 3,
   "id": "a98d8bfa-c808-4bae-94c4-02629744033c",
   "metadata": {},
   "outputs": [],
   "source": [
    "def prime_numbers():\n",
    "  n = 2\n",
    "  while n < 1000:\n",
    "    if is_prime(n):\n",
    "      yield n\n",
    "    n += 1\n"
   ]
  },
  {
   "cell_type": "code",
   "execution_count": 7,
   "id": "bc9a4f2a-813d-474f-9f86-627ae3f254b5",
   "metadata": {},
   "outputs": [],
   "source": [
    "def is_prime(n):\n",
    "  for i in range(2, int(n**0.5) + 1):\n",
    "    if n % i == 0:\n",
    "      return False\n",
    "  return True\n"
   ]
  },
  {
   "cell_type": "code",
   "execution_count": 8,
   "id": "0f8fe5b5-7b56-4be6-8e64-802187b90b3d",
   "metadata": {},
   "outputs": [],
   "source": [
    "primes = prime_numbers()"
   ]
  },
  {
   "cell_type": "code",
   "execution_count": 9,
   "id": "6601eec4-8065-44ce-990f-50fe4e338fdf",
   "metadata": {},
   "outputs": [
    {
     "name": "stdout",
     "output_type": "stream",
     "text": [
      "2\n",
      "3\n",
      "5\n",
      "7\n",
      "11\n",
      "13\n",
      "17\n",
      "19\n",
      "23\n",
      "29\n",
      "31\n",
      "37\n",
      "41\n",
      "43\n",
      "47\n",
      "53\n",
      "59\n",
      "61\n",
      "67\n",
      "71\n"
     ]
    }
   ],
   "source": [
    "for i in range(20):\n",
    "  print(next(primes))"
   ]
  },
  {
   "cell_type": "code",
   "execution_count": null,
   "id": "7103f796-ca10-4c6c-abdb-b0b606a010e8",
   "metadata": {},
   "outputs": [],
   "source": []
  },
  {
   "cell_type": "code",
   "execution_count": null,
   "id": "87f52211-d073-4d40-9251-f71305597dde",
   "metadata": {},
   "outputs": [],
   "source": [
    "#Q6"
   ]
  },
  {
   "cell_type": "code",
   "execution_count": 10,
   "id": "4a6af36b-70a5-484d-9b88-392a65775db6",
   "metadata": {},
   "outputs": [],
   "source": [
    "def fibonacci():\n",
    "  a = 0\n",
    "  b = 1\n",
    "  count = 0\n",
    "\n",
    "  while count < 10:\n",
    "    print(a)\n",
    "\n",
    "    a, b = b, a + b\n",
    "    count += 1"
   ]
  },
  {
   "cell_type": "code",
   "execution_count": 11,
   "id": "94daf658-fbe3-4eef-aef4-fb1bd8623abe",
   "metadata": {},
   "outputs": [
    {
     "name": "stdout",
     "output_type": "stream",
     "text": [
      "0\n",
      "1\n",
      "1\n",
      "2\n",
      "3\n",
      "5\n",
      "8\n",
      "13\n",
      "21\n",
      "34\n"
     ]
    }
   ],
   "source": [
    "fibonacci()"
   ]
  },
  {
   "cell_type": "code",
   "execution_count": null,
   "id": "13140ede-a932-428c-b226-6ae6a4a63fae",
   "metadata": {},
   "outputs": [],
   "source": []
  },
  {
   "cell_type": "code",
   "execution_count": null,
   "id": "cd3986ee-b9ea-4ff3-8027-a863e6494394",
   "metadata": {},
   "outputs": [],
   "source": [
    "#Q7"
   ]
  },
  {
   "cell_type": "code",
   "execution_count": 56,
   "id": "59c91d80-16d3-4a41-a95c-78ae5f8815cc",
   "metadata": {},
   "outputs": [
    {
     "name": "stdout",
     "output_type": "stream",
     "text": [
      "['p', 'w', 's', 'k', 'i', 'l', 'l', 's']\n"
     ]
    }
   ],
   "source": [
    "\n",
    "\n",
    "# Empty list\n",
    "List = []\n",
    " \n",
    "# Traditional approach of iterating\n",
    "for character in 'pwskills':\n",
    "    List.append(character)\n",
    " \n",
    "# Display list\n",
    "print(List)"
   ]
  },
  {
   "cell_type": "code",
   "execution_count": 1,
   "id": "11db9fdc-b6dd-43be-b045-f8f8e2ba8188",
   "metadata": {},
   "outputs": [],
   "source": [
    "#Q8"
   ]
  },
  {
   "cell_type": "code",
   "execution_count": 55,
   "id": "5216ffc2-d4cb-49f6-9d2d-2b3620a36d5e",
   "metadata": {},
   "outputs": [
    {
     "name": "stdin",
     "output_type": "stream",
     "text": [
      "Enter number: 434\n"
     ]
    },
    {
     "name": "stdout",
     "output_type": "stream",
     "text": [
      "The number is a palindrome!\n"
     ]
    }
   ],
   "source": [
    "n=int(input(\"Enter number:\"))\n",
    "temp=n\n",
    "rev=0\n",
    "while(n>0):\n",
    "    dig=n%10\n",
    "    rev=rev*10+dig\n",
    "    n=n//10\n",
    "if(temp==rev):\n",
    "    print(\"The number is a palindrome!\")\n",
    "else:\n",
    "    print(\"The number isn't a palindrome!\")"
   ]
  },
  {
   "cell_type": "code",
   "execution_count": null,
   "id": "11792375-60f1-4141-b16f-5f63226831a7",
   "metadata": {},
   "outputs": [],
   "source": []
  },
  {
   "cell_type": "code",
   "execution_count": null,
   "id": "2089f22f-1547-4a4b-b6fe-aef305c53d15",
   "metadata": {},
   "outputs": [],
   "source": [
    "#Q9"
   ]
  },
  {
   "cell_type": "code",
   "execution_count": 53,
   "id": "c266a5f5-d0ef-4a66-be4f-3ac0bb6498a8",
   "metadata": {},
   "outputs": [],
   "source": [
    "numbers = list(range(1,101))"
   ]
  },
  {
   "cell_type": "code",
   "execution_count": 54,
   "id": "dfebcb55-4794-4bcc-a1d6-9cd29db7fd25",
   "metadata": {},
   "outputs": [
    {
     "data": {
      "text/plain": [
       "[1,\n",
       " 3,\n",
       " 5,\n",
       " 7,\n",
       " 9,\n",
       " 11,\n",
       " 13,\n",
       " 15,\n",
       " 17,\n",
       " 19,\n",
       " 21,\n",
       " 23,\n",
       " 25,\n",
       " 27,\n",
       " 29,\n",
       " 31,\n",
       " 33,\n",
       " 35,\n",
       " 37,\n",
       " 39,\n",
       " 41,\n",
       " 43,\n",
       " 45,\n",
       " 47,\n",
       " 49,\n",
       " 51,\n",
       " 53,\n",
       " 55,\n",
       " 57,\n",
       " 59,\n",
       " 61,\n",
       " 63,\n",
       " 65,\n",
       " 67,\n",
       " 69,\n",
       " 71,\n",
       " 73,\n",
       " 75,\n",
       " 77,\n",
       " 79,\n",
       " 81,\n",
       " 83,\n",
       " 85,\n",
       " 87,\n",
       " 89,\n",
       " 91,\n",
       " 93,\n",
       " 95,\n",
       " 97,\n",
       " 99]"
      ]
     },
     "execution_count": 54,
     "metadata": {},
     "output_type": "execute_result"
    }
   ],
   "source": [
    "list(filter(lambda x: x%2!=0, numbers))"
   ]
  },
  {
   "cell_type": "code",
   "execution_count": null,
   "id": "9740a926-752f-4a4a-b9be-7cdac7bc2dec",
   "metadata": {},
   "outputs": [],
   "source": []
  }
 ],
 "metadata": {
  "kernelspec": {
   "display_name": "Python 3 (ipykernel)",
   "language": "python",
   "name": "python3"
  },
  "language_info": {
   "codemirror_mode": {
    "name": "ipython",
    "version": 3
   },
   "file_extension": ".py",
   "mimetype": "text/x-python",
   "name": "python",
   "nbconvert_exporter": "python",
   "pygments_lexer": "ipython3",
   "version": "3.10.8"
  }
 },
 "nbformat": 4,
 "nbformat_minor": 5
}
