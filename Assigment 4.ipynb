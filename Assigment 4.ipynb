{
 "cells": [
  {
   "cell_type": "code",
   "execution_count": null,
   "id": "205f98d9-1738-4174-b85c-2734ad6da7ee",
   "metadata": {},
   "outputs": [],
   "source": [
    "#Q1"
   ]
  },
  {
   "cell_type": "code",
   "execution_count": null,
   "id": "860b67a9-66ae-43fe-9ff9-f8f79cf8943d",
   "metadata": {},
   "outputs": [],
   "source": []
  },
  {
   "cell_type": "code",
   "execution_count": 2,
   "id": "19d7da00-1e79-448b-9536-90f20bfe70f1",
   "metadata": {},
   "outputs": [],
   "source": [
    "l=[('Sachin Tendulkar', 34357), ('Ricky Ponting', 27483), ('Jack Kallis', 25534), ('Virat Kohli', 24936)]"
   ]
  },
  {
   "cell_type": "code",
   "execution_count": null,
   "id": "00bc48aa-4e2f-433e-8cb5-dcd9b82e5eac",
   "metadata": {},
   "outputs": [],
   "source": [
    "#Q2"
   ]
  },
  {
   "cell_type": "code",
   "execution_count": 3,
   "id": "67e2a338-9fef-4ec4-a1b1-676686b587ea",
   "metadata": {},
   "outputs": [],
   "source": [
    "l = [1, 2, 3, 4, 5, 6, 7, 8, 9, 10]"
   ]
  },
  {
   "cell_type": "code",
   "execution_count": 4,
   "id": "ea6fee76-2869-41de-aff7-a04f98c94835",
   "metadata": {},
   "outputs": [],
   "source": [
    "def squ(k):\n",
    "    return k**2"
   ]
  },
  {
   "cell_type": "code",
   "execution_count": 5,
   "id": "fe7fe950-0ff3-4d6b-8d19-7a555b1ef81d",
   "metadata": {},
   "outputs": [
    {
     "data": {
      "text/plain": [
       "[1, 4, 9, 16, 25, 36, 49, 64, 81, 100]"
      ]
     },
     "execution_count": 5,
     "metadata": {},
     "output_type": "execute_result"
    }
   ],
   "source": [
    "list(map(squ,l))"
   ]
  },
  {
   "cell_type": "code",
   "execution_count": null,
   "id": "6f25f671-19ba-40aa-af6e-313a6745e3c5",
   "metadata": {},
   "outputs": [],
   "source": []
  },
  {
   "cell_type": "code",
   "execution_count": 6,
   "id": "50d7fbbe-7b9d-4614-90bb-e1ef9f2b83fe",
   "metadata": {},
   "outputs": [],
   "source": [
    "#Q3"
   ]
  },
  {
   "cell_type": "code",
   "execution_count": 7,
   "id": "17ddd2ff-466d-4b4e-952c-52c31b594b3c",
   "metadata": {},
   "outputs": [],
   "source": [
    "l = [1, 2, 3, 4, 5, 6, 7, 8, 9, 10]"
   ]
  },
  {
   "cell_type": "code",
   "execution_count": 8,
   "id": "3060f223-34e0-46f7-809a-c526d8c4d719",
   "metadata": {},
   "outputs": [],
   "source": [
    "def covert_to_string(k):\n",
    "    return str(k)"
   ]
  },
  {
   "cell_type": "code",
   "execution_count": 9,
   "id": "130bd11d-f2bf-41e5-957c-417d501dc703",
   "metadata": {},
   "outputs": [],
   "source": [
    "list_str = map(covert_to_string, l)"
   ]
  },
  {
   "cell_type": "code",
   "execution_count": 10,
   "id": "866d1d76-bc9d-4ed2-8f1b-9a22479e9379",
   "metadata": {},
   "outputs": [],
   "source": [
    "tuple_str = tuple(list_str)"
   ]
  },
  {
   "cell_type": "code",
   "execution_count": 11,
   "id": "ea39a3fe-80fb-4f54-b8fd-764edbb83fb9",
   "metadata": {},
   "outputs": [
    {
     "data": {
      "text/plain": [
       "('1', '2', '3', '4', '5', '6', '7', '8', '9', '10')"
      ]
     },
     "execution_count": 11,
     "metadata": {},
     "output_type": "execute_result"
    }
   ],
   "source": [
    "tuple_str"
   ]
  },
  {
   "cell_type": "code",
   "execution_count": null,
   "id": "0b046795-0533-44f0-ad78-fde251bef617",
   "metadata": {},
   "outputs": [],
   "source": []
  },
  {
   "cell_type": "code",
   "execution_count": null,
   "id": "d95552e9-0077-4481-a566-0dab68d8ce10",
   "metadata": {},
   "outputs": [],
   "source": [
    "#Q4"
   ]
  },
  {
   "cell_type": "code",
   "execution_count": 12,
   "id": "96b686a3-57e0-427c-8e34-27cb1fee7a0c",
   "metadata": {},
   "outputs": [],
   "source": [
    "l = [1,2,3,4,5,6,7,8,9,10,11,12,13,14,1,16,17,18,19,20,21,22,23,24,25]"
   ]
  },
  {
   "cell_type": "code",
   "execution_count": 14,
   "id": "e4e8e762-6965-4e0c-aec0-58cb9335e2ef",
   "metadata": {},
   "outputs": [],
   "source": [
    "from functools import reduce"
   ]
  },
  {
   "cell_type": "code",
   "execution_count": 15,
   "id": "5b03df9e-7cff-45fe-90fb-61098b29a0e4",
   "metadata": {},
   "outputs": [
    {
     "data": {
      "text/plain": [
       "311"
      ]
     },
     "execution_count": 15,
     "metadata": {},
     "output_type": "execute_result"
    }
   ],
   "source": [
    "reduce(lambda x,y: x+y,l)"
   ]
  },
  {
   "cell_type": "code",
   "execution_count": null,
   "id": "146d2601-e18a-4dd6-b3af-e4d2af650f9c",
   "metadata": {},
   "outputs": [],
   "source": []
  },
  {
   "cell_type": "code",
   "execution_count": 16,
   "id": "ff3268d2-ce59-4bdd-9912-5e0007f3d506",
   "metadata": {},
   "outputs": [],
   "source": [
    "#Q5"
   ]
  },
  {
   "cell_type": "code",
   "execution_count": 17,
   "id": "b76cf6c3-4c74-46a6-8ec5-60e882164a35",
   "metadata": {},
   "outputs": [],
   "source": [
    "l = [2, 3, 6, 9, 27, 60, 90, 120, 55, 46]"
   ]
  },
  {
   "cell_type": "code",
   "execution_count": 20,
   "id": "439b5d8a-0a43-453e-b765-7d2899347e0b",
   "metadata": {},
   "outputs": [
    {
     "data": {
      "text/plain": [
       "[2, 6, 60, 90, 120, 46]"
      ]
     },
     "execution_count": 20,
     "metadata": {},
     "output_type": "execute_result"
    }
   ],
   "source": [
    "list(filter(lambda x: x%2==0,l))"
   ]
  },
  {
   "cell_type": "code",
   "execution_count": 21,
   "id": "5d9450c6-54fd-4e35-b5ce-54e0c352f4ed",
   "metadata": {},
   "outputs": [
    {
     "data": {
      "text/plain": [
       "[3, 6, 9, 27, 60, 90, 120]"
      ]
     },
     "execution_count": 21,
     "metadata": {},
     "output_type": "execute_result"
    }
   ],
   "source": [
    "list(filter(lambda x: x%3==0,l))"
   ]
  },
  {
   "cell_type": "code",
   "execution_count": null,
   "id": "8508654f-bfb1-435e-8d77-4257f81c587a",
   "metadata": {},
   "outputs": [],
   "source": []
  },
  {
   "cell_type": "code",
   "execution_count": 22,
   "id": "27571a94-25fb-484c-a745-1f3b9c3972e8",
   "metadata": {},
   "outputs": [],
   "source": [
    "#Q6"
   ]
  },
  {
   "cell_type": "code",
   "execution_count": 23,
   "id": "a93dedd2-d461-46ed-9976-935ef3e24e91",
   "metadata": {},
   "outputs": [],
   "source": [
    "l = ['python', 'php', 'aba', 'radar', 'level']"
   ]
  },
  {
   "cell_type": "code",
   "execution_count": 24,
   "id": "fe32013c-6c0b-4ed4-83e3-0a8811f4caef",
   "metadata": {},
   "outputs": [],
   "source": [
    "palidrome = lambda x: x==x[::-1]"
   ]
  },
  {
   "cell_type": "code",
   "execution_count": 25,
   "id": "aff1f426-efd7-48e2-9dac-92d048b7d12b",
   "metadata": {},
   "outputs": [],
   "source": [
    "palindromes = filter(palidrome,l)"
   ]
  },
  {
   "cell_type": "code",
   "execution_count": 26,
   "id": "591390fe-f1fa-407a-b189-3bf39195b577",
   "metadata": {},
   "outputs": [
    {
     "data": {
      "text/plain": [
       "<filter at 0x7fb990493550>"
      ]
     },
     "execution_count": 26,
     "metadata": {},
     "output_type": "execute_result"
    }
   ],
   "source": [
    "palindromes"
   ]
  }
 ],
 "metadata": {
  "kernelspec": {
   "display_name": "Python 3 (ipykernel)",
   "language": "python",
   "name": "python3"
  },
  "language_info": {
   "codemirror_mode": {
    "name": "ipython",
    "version": 3
   },
   "file_extension": ".py",
   "mimetype": "text/x-python",
   "name": "python",
   "nbconvert_exporter": "python",
   "pygments_lexer": "ipython3",
   "version": "3.10.8"
  }
 },
 "nbformat": 4,
 "nbformat_minor": 5
}
