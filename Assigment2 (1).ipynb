{
 "cells": [
  {
   "cell_type": "code",
   "execution_count": null,
   "id": "76b431b2-940f-4d8e-b479-713cfd8816c4",
   "metadata": {},
   "outputs": [],
   "source": [
    "#Q1\n",
    "#we use hashtag to comment in python language.."
   ]
  },
  {
   "cell_type": "code",
   "execution_count": 2,
   "id": "cf404d16-bafd-4fd7-a9ba-90f349e53f8a",
   "metadata": {},
   "outputs": [],
   "source": [
    "# Q2"
   ]
  },
  {
   "cell_type": "code",
   "execution_count": 3,
   "id": "59cb6c6f-6aa0-4239-9253-aab62c0f91bd",
   "metadata": {},
   "outputs": [],
   "source": [
    "k = 34 #here we assign k = 34"
   ]
  },
  {
   "cell_type": "code",
   "execution_count": 5,
   "id": "2f5b125b-2818-42e8-a31d-deec2daad4ab",
   "metadata": {},
   "outputs": [
    {
     "data": {
      "text/plain": [
       "34"
      ]
     },
     "execution_count": 5,
     "metadata": {},
     "output_type": "execute_result"
    }
   ],
   "source": [
    "k #when we call k is gives 34"
   ]
  },
  {
   "cell_type": "code",
   "execution_count": 6,
   "id": "dc3d6190-2e51-42f0-aa11-448a7f00ab2e",
   "metadata": {},
   "outputs": [],
   "source": [
    "# Q3"
   ]
  },
  {
   "cell_type": "code",
   "execution_count": 54,
   "id": "e410cd55-14d1-459b-98dd-01e5ff8bb307",
   "metadata": {},
   "outputs": [],
   "source": [
    "tuple_values = (1, 2, 3)\n",
    "list_values = list(tuple_values)"
   ]
  },
  {
   "cell_type": "code",
   "execution_count": 55,
   "id": "465d364b-8740-436a-a6ff-0d7c97b452d1",
   "metadata": {},
   "outputs": [
    {
     "data": {
      "text/plain": [
       "(1, 2, 3)"
      ]
     },
     "execution_count": 55,
     "metadata": {},
     "output_type": "execute_result"
    }
   ],
   "source": [
    "tuple_values"
   ]
  },
  {
   "cell_type": "code",
   "execution_count": 56,
   "id": "bff0c509-a03f-48f0-ae3b-3a9e17e07b2d",
   "metadata": {},
   "outputs": [
    {
     "data": {
      "text/plain": [
       "[1, 2, 3]"
      ]
     },
     "execution_count": 56,
     "metadata": {},
     "output_type": "execute_result"
    }
   ],
   "source": [
    "list_values"
   ]
  },
  {
   "cell_type": "code",
   "execution_count": null,
   "id": "7c41a010-65ad-4ef6-96fa-be59b484c2b3",
   "metadata": {},
   "outputs": [],
   "source": [
    "# Q4"
   ]
  },
  {
   "cell_type": "code",
   "execution_count": null,
   "id": "b884af92-f00d-40cf-b05a-a8f4256dfd67",
   "metadata": {},
   "outputs": [],
   "source": [
    "#open a command line and type the word python followed by the path to your script file like this: python / karunesh.py"
   ]
  },
  {
   "cell_type": "code",
   "execution_count": null,
   "id": "0ea168d5-0fef-44b6-b875-bd7548933c7f",
   "metadata": {},
   "outputs": [],
   "source": []
  },
  {
   "cell_type": "code",
   "execution_count": 14,
   "id": "ffedc35b-ce52-499d-b5b4-345c7866106f",
   "metadata": {},
   "outputs": [],
   "source": [
    "# Q5"
   ]
  },
  {
   "cell_type": "code",
   "execution_count": 15,
   "id": "0b3d7b10-ca08-4441-9a8e-9d6736058689",
   "metadata": {},
   "outputs": [],
   "source": [
    "my_list = [1, 2, 3, 4, 5]"
   ]
  },
  {
   "cell_type": "code",
   "execution_count": 23,
   "id": "597ca483-e6cf-4adf-afa6-f751ae7fa002",
   "metadata": {},
   "outputs": [
    {
     "data": {
      "text/plain": [
       "[2, 3]"
      ]
     },
     "execution_count": 23,
     "metadata": {},
     "output_type": "execute_result"
    }
   ],
   "source": [
    "my_list[1:3]"
   ]
  },
  {
   "cell_type": "code",
   "execution_count": null,
   "id": "fb4c0972-6298-4ab6-9a93-779789b5a9b3",
   "metadata": {},
   "outputs": [],
   "source": []
  },
  {
   "cell_type": "code",
   "execution_count": 24,
   "id": "6dc3ebeb-5b6f-4916-9375-8964a672d111",
   "metadata": {},
   "outputs": [],
   "source": [
    "# Q6"
   ]
  },
  {
   "cell_type": "code",
   "execution_count": null,
   "id": "efb2edf1-916c-43c0-8303-dcb86e0b14b1",
   "metadata": {},
   "outputs": [],
   "source": [
    "#(x + yj) where x and y are real numbers and j is an imaginary number\n",
    "# we right in python in form of 4+5j"
   ]
  },
  {
   "cell_type": "code",
   "execution_count": null,
   "id": "936b5a04-0cd3-4543-8b93-45a043e9b665",
   "metadata": {},
   "outputs": [],
   "source": []
  },
  {
   "cell_type": "code",
   "execution_count": null,
   "id": "1a5c2f81-1f16-480d-a995-43491fe46ac2",
   "metadata": {},
   "outputs": [],
   "source": [
    "# Q7"
   ]
  },
  {
   "cell_type": "code",
   "execution_count": 26,
   "id": "2847b182-39f0-4be8-b1fa-668207b7f0a0",
   "metadata": {},
   "outputs": [
    {
     "data": {
      "text/plain": [
       "25"
      ]
     },
     "execution_count": 26,
     "metadata": {},
     "output_type": "execute_result"
    }
   ],
   "source": [
    "Age = 25\n",
    "Age"
   ]
  },
  {
   "cell_type": "code",
   "execution_count": null,
   "id": "2247cccf-f321-4286-a9a5-8cc5aa0d79d7",
   "metadata": {},
   "outputs": [],
   "source": []
  },
  {
   "cell_type": "code",
   "execution_count": null,
   "id": "69daa768-6475-415b-af61-d0963ee72c55",
   "metadata": {},
   "outputs": [],
   "source": [
    "# Q8"
   ]
  },
  {
   "cell_type": "code",
   "execution_count": 28,
   "id": "6dcaa4d3-7cba-4688-a210-63f6db3413af",
   "metadata": {},
   "outputs": [
    {
     "data": {
      "text/plain": [
       "float"
      ]
     },
     "execution_count": 28,
     "metadata": {},
     "output_type": "execute_result"
    }
   ],
   "source": [
    "Price = 9.99\n",
    "type(Price)"
   ]
  },
  {
   "cell_type": "code",
   "execution_count": null,
   "id": "285a6838-2248-48d9-b1ec-781f3bc6fe38",
   "metadata": {},
   "outputs": [],
   "source": []
  },
  {
   "cell_type": "code",
   "execution_count": 29,
   "id": "17eb964e-0d77-4f61-8fc3-a2917d6d62e0",
   "metadata": {},
   "outputs": [],
   "source": [
    "# Q9"
   ]
  },
  {
   "cell_type": "code",
   "execution_count": 31,
   "id": "483b847d-5eaf-48f3-9feb-91a46556dbfd",
   "metadata": {},
   "outputs": [
    {
     "name": "stdout",
     "output_type": "stream",
     "text": [
      "karunesh Tarun Swamy\n"
     ]
    }
   ],
   "source": [
    "Name = \"karunesh Tarun Swamy\"\n",
    "print(Name)"
   ]
  },
  {
   "cell_type": "code",
   "execution_count": null,
   "id": "00904e11-cd68-4164-ad40-bbda1cd1057c",
   "metadata": {},
   "outputs": [],
   "source": []
  },
  {
   "cell_type": "code",
   "execution_count": 32,
   "id": "715ed5aa-ce8e-4804-af8b-ab2d7b09e87f",
   "metadata": {},
   "outputs": [],
   "source": [
    "# Q10"
   ]
  },
  {
   "cell_type": "code",
   "execution_count": 36,
   "id": "ef3ac792-b4f8-4936-9d7b-649234ce8ec6",
   "metadata": {},
   "outputs": [],
   "source": [
    "str = \"Hello, World..\""
   ]
  },
  {
   "cell_type": "code",
   "execution_count": 40,
   "id": "fece5d62-b2c0-401e-b836-4e3250e4175e",
   "metadata": {},
   "outputs": [
    {
     "name": "stdout",
     "output_type": "stream",
     "text": [
      "World\n"
     ]
    }
   ],
   "source": [
    "print(str[6:12])"
   ]
  },
  {
   "cell_type": "code",
   "execution_count": null,
   "id": "db609918-805b-4d10-9257-9f9873e4f555",
   "metadata": {},
   "outputs": [],
   "source": []
  },
  {
   "cell_type": "code",
   "execution_count": null,
   "id": "086a63b5-7402-4154-9a4e-0152b27de13f",
   "metadata": {},
   "outputs": [],
   "source": [
    "# Q11"
   ]
  },
  {
   "cell_type": "code",
   "execution_count": 41,
   "id": "75f5d02b-c472-47b4-8bac-9e9d18ab8848",
   "metadata": {},
   "outputs": [],
   "source": [
    "is_Student = True\n",
    "#or\n",
    "is_Student = False"
   ]
  }
 ],
 "metadata": {
  "kernelspec": {
   "display_name": "Python 3 (ipykernel)",
   "language": "python",
   "name": "python3"
  },
  "language_info": {
   "codemirror_mode": {
    "name": "ipython",
    "version": 3
   },
   "file_extension": ".py",
   "mimetype": "text/x-python",
   "name": "python",
   "nbconvert_exporter": "python",
   "pygments_lexer": "ipython3",
   "version": "3.10.8"
  }
 },
 "nbformat": 4,
 "nbformat_minor": 5
}
