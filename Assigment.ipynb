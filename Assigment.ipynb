{
 "cells": [
  {
   "cell_type": "code",
   "execution_count": 16,
   "id": "6e65f03b-d1cf-4669-99f2-e9cc4d8401db",
   "metadata": {},
   "outputs": [],
   "source": [
    "#Q!\n",
    "class Vehicle:\n",
    "    def __init__(self, name_of_vehicle, max_speed, average_of_vehicle):\n",
    "        self.name_of_vehicle = name_of_vehicle\n",
    "        self.max_speed = max_speed\n",
    "        self.average_of_vehicle = average_of_vehicle\n",
    "\n",
    "    def get_name(self):\n",
    "        return self.name_of_vehicle\n",
    "\n",
    "    def get_max_speed(self):\n",
    "        return self.max_speed\n",
    "\n",
    "    def get_average_speed(self):\n",
    "        return self.average_of_vehicle\n",
    "\n",
    "    def set_name(self, name_of_vehicle):\n",
    "        self.name_of_vehicle = name_of_vehicle\n",
    "\n",
    "    def set_max_speed(self, max_speed):\n",
    "        self.max_speed = max_speed\n",
    "\n",
    "    def set_average_speed(self, average_of_vehicle):\n",
    "        self.average_of_vehicle = average_of_vehicle\n"
   ]
  },
  {
   "cell_type": "code",
   "execution_count": 17,
   "id": "e9f42ee1-9cfe-4f53-a440-411c43864d89",
   "metadata": {},
   "outputs": [],
   "source": [
    "vehicle = (\"Toyota\",200,45)"
   ]
  },
  {
   "cell_type": "code",
   "execution_count": 18,
   "id": "34965b8c-ebcf-4df8-97b1-3dbb9f98f478",
   "metadata": {},
   "outputs": [
    {
     "data": {
      "text/plain": [
       "('Toyota', 200, 45)"
      ]
     },
     "execution_count": 18,
     "metadata": {},
     "output_type": "execute_result"
    }
   ],
   "source": [
    "vehicle"
   ]
  },
  {
   "cell_type": "code",
   "execution_count": null,
   "id": "3a1e58e4-ff33-4040-a794-62ecf3228ac9",
   "metadata": {},
   "outputs": [],
   "source": []
  },
  {
   "cell_type": "code",
   "execution_count": 19,
   "id": "e23ac507-a196-425c-9073-adb29a031d25",
   "metadata": {},
   "outputs": [],
   "source": [
    "#Q2"
   ]
  },
  {
   "cell_type": "code",
   "execution_count": 24,
   "id": "15862d9e-3c66-4981-ae53-b354e79e06a0",
   "metadata": {},
   "outputs": [],
   "source": [
    "class Vehicle1:\n",
    "    def seating_capacity(self):\n",
    "        return \"Toyota , Seating capacity 5 seater\""
   ]
  },
  {
   "cell_type": "code",
   "execution_count": 25,
   "id": "e9071961-0b40-4d96-962b-95d5d1e5bbc4",
   "metadata": {},
   "outputs": [],
   "source": [
    "class car(Vehicle1):\n",
    "    pass"
   ]
  },
  {
   "cell_type": "code",
   "execution_count": 26,
   "id": "f431e5bd-554d-426d-a76a-919135bbeb7e",
   "metadata": {},
   "outputs": [],
   "source": [
    "obj_car = car()"
   ]
  },
  {
   "cell_type": "code",
   "execution_count": 27,
   "id": "b75ddfd0-a762-47fa-a87e-82c53afd0705",
   "metadata": {},
   "outputs": [
    {
     "data": {
      "text/plain": [
       "'Toyota , Seating capacity 5 seater'"
      ]
     },
     "execution_count": 27,
     "metadata": {},
     "output_type": "execute_result"
    }
   ],
   "source": [
    "obj_car.seating_capacity()"
   ]
  },
  {
   "cell_type": "code",
   "execution_count": null,
   "id": "24f07a98-91fa-4ba1-bc84-667448a652cf",
   "metadata": {},
   "outputs": [],
   "source": []
  },
  {
   "cell_type": "code",
   "execution_count": null,
   "id": "c97e6a50-28a9-407c-b4b8-20f7d842351e",
   "metadata": {},
   "outputs": [],
   "source": [
    "#Q3"
   ]
  },
  {
   "cell_type": "code",
   "execution_count": null,
   "id": "1a36dccb-6433-45e8-8434-b691a5465a5f",
   "metadata": {},
   "outputs": [],
   "source": [
    "#Multiple inheritance is a feature of object-oriented programming languages that allows a class to inherit from multiple parent classes. This can be useful for modeling real-world objects and concepts that have multiple characteristics."
   ]
  },
  {
   "cell_type": "code",
   "execution_count": 28,
   "id": "628bd91a-0e77-4f70-ab93-52f08d8a4a94",
   "metadata": {},
   "outputs": [],
   "source": [
    "class class1:\n",
    "    def test_class1(self) : \n",
    "        print(\"this is my class 1\" )"
   ]
  },
  {
   "cell_type": "code",
   "execution_count": 29,
   "id": "1d44926d-a3b8-4802-bbff-536c1b119fe1",
   "metadata": {},
   "outputs": [],
   "source": [
    "class class2 :\n",
    "    def test_class2(self) : \n",
    "        print(\"this is my class 2\")\n",
    "        "
   ]
  },
  {
   "cell_type": "code",
   "execution_count": 30,
   "id": "52813738-7011-4e33-abfd-24dcf414bbd0",
   "metadata": {},
   "outputs": [],
   "source": [
    "class class3(class1,class2):\n",
    "    pass\n",
    "    "
   ]
  },
  {
   "cell_type": "code",
   "execution_count": 31,
   "id": "1f1f77d9-60df-434d-8f5e-92c1eba51dd6",
   "metadata": {},
   "outputs": [],
   "source": [
    "obj_class3 = class3()"
   ]
  },
  {
   "cell_type": "code",
   "execution_count": 32,
   "id": "7787cdf0-3b5e-4823-90f1-8a2e5ae65c04",
   "metadata": {},
   "outputs": [
    {
     "name": "stdout",
     "output_type": "stream",
     "text": [
      "this is my class 1\n"
     ]
    }
   ],
   "source": [
    "obj_class3.test_class1()"
   ]
  },
  {
   "cell_type": "code",
   "execution_count": null,
   "id": "1b203a55-60d1-4046-b416-5794abff083b",
   "metadata": {},
   "outputs": [],
   "source": []
  },
  {
   "cell_type": "code",
   "execution_count": 33,
   "id": "756ff2c6-de87-45c3-85ac-314aeb430300",
   "metadata": {},
   "outputs": [],
   "source": [
    "#Q4"
   ]
  },
  {
   "cell_type": "code",
   "execution_count": null,
   "id": "cdda0f40-a24b-4539-89b7-22d71b27a56e",
   "metadata": {},
   "outputs": [],
   "source": [
    "#We use getters & setters to add validation logic around getting and setting a value.\n",
    "#To avoid direct access of a class field i.e. private variables cannot be accessed directly or modified by external user."
   ]
  },
  {
   "cell_type": "code",
   "execution_count": 35,
   "id": "a5556f06-fbc2-479b-a8d2-a8537ecd2221",
   "metadata": {},
   "outputs": [
    {
     "name": "stdout",
     "output_type": "stream",
     "text": [
      "21\n",
      "21\n"
     ]
    }
   ],
   "source": [
    "# Python program showing a use \n",
    "# of get() and set() method in \n",
    "# normal function \n",
    "\n",
    "class karunesh: \n",
    "\tdef __init__(self, age = 0): \n",
    "\t\tself._age = age \n",
    "\t\n",
    "\t# getter method \n",
    "\tdef get_age(self): \n",
    "\t\treturn self._age \n",
    "\t\n",
    "\t# setter method \n",
    "\tdef set_age(self, x): \n",
    "\t\tself._age = x \n",
    "\n",
    "karunesh = karunesh() \n",
    "\n",
    "# setting the age using setter \n",
    "karunesh.set_age(21) \n",
    "\n",
    "# retrieving age using getter \n",
    "print(karunesh.get_age()) \n",
    "\n",
    "print(karunesh._age) \n"
   ]
  },
  {
   "cell_type": "code",
   "execution_count": 36,
   "id": "d4d8aa88-e7a1-4499-bf3e-8a9282f8ad9c",
   "metadata": {},
   "outputs": [],
   "source": [
    "#Q5"
   ]
  },
  {
   "cell_type": "code",
   "execution_count": 37,
   "id": "d93fe6a7-3f41-4690-b0b4-9db8f48f4193",
   "metadata": {},
   "outputs": [],
   "source": [
    "#Method overriding is an ability of any object-oriented programming language that allows a subclass or child class to provide a specific implementation of a method that is already provided by one of its super-classes or parent classes."
   ]
  },
  {
   "cell_type": "code",
   "execution_count": null,
   "id": "3fc436e9-5800-4c4f-b5f4-e4a803056116",
   "metadata": {},
   "outputs": [],
   "source": [
    "\n",
    "# Defining parent class \n",
    "class Parent(): \n",
    "\t\n",
    "\t# Constructor \n",
    "\tdef __init__(self): \n",
    "\t\tself.value = \"Inside Parent\"\n",
    "\t\t\n",
    "\t# Parent's show method \n",
    "\tdef show(self): \n",
    "\t\tprint(self.value) \n",
    "\t\t\n",
    "# Defining child class \n",
    "class Child(Parent): \n",
    "\t\n",
    "\t# Constructor \n",
    "\tdef __init__(self): \n",
    "\t\tself.value = \"Inside Child\"\n",
    "\t\t\n",
    "\t# Child's show method \n",
    "\tdef show(self): \n",
    "\t\tprint(self.value) \n",
    "\t\t\n",
    "\t\t\n",
    "# Driver's code \n",
    "obj1 = Parent() \n",
    "obj2 = Child() \n",
    "\n",
    "obj1.show() \n",
    "obj2.show() \n"
   ]
  }
 ],
 "metadata": {
  "kernelspec": {
   "display_name": "Python 3 (ipykernel)",
   "language": "python",
   "name": "python3"
  },
  "language_info": {
   "codemirror_mode": {
    "name": "ipython",
    "version": 3
   },
   "file_extension": ".py",
   "mimetype": "text/x-python",
   "name": "python",
   "nbconvert_exporter": "python",
   "pygments_lexer": "ipython3",
   "version": "3.10.8"
  }
 },
 "nbformat": 4,
 "nbformat_minor": 5
}
